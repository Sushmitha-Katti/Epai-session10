{
 "cells": [
  {
   "cell_type": "code",
   "execution_count": 3,
   "metadata": {},
   "outputs": [],
   "source": [
    "\n",
    "from collections import namedtuple\n",
    "from faker import Faker\n",
    "import datetime\n",
    "from time import perf_counter\n",
    "from functools import wraps\n",
    "import re\n",
    "import random\n",
    "import string\n",
    "\n"
   ]
  },
  {
   "cell_type": "code",
   "execution_count": 72,
   "metadata": {},
   "outputs": [
    {
     "data": {
      "text/plain": [
       "{'job': 'Programme researcher, broadcasting/film/video',\n",
       " 'company': 'Shaw Group',\n",
       " 'ssn': '825-97-8688',\n",
       " 'residence': '1034 David Ranch Suite 891\\nPort Autumn, GA 91122',\n",
       " 'current_location': (Decimal('-70.9795165'), Decimal('-72.822846')),\n",
       " 'blood_group': 'B-',\n",
       " 'website': ['https://www.mathews-hernandez.com/'],\n",
       " 'username': 'prichards',\n",
       " 'name': 'James Nelson',\n",
       " 'sex': 'M',\n",
       " 'address': '20539 Martinez Vista Apt. 982\\nMurphymouth, MO 63498',\n",
       " 'mail': 'kennethalvarado@gmail.com',\n",
       " 'birthdate': datetime.date(2018, 2, 6)}"
      ]
     },
     "execution_count": 72,
     "metadata": {},
     "output_type": "execute_result"
    }
   ],
   "source": [
    "fake = Faker()\n",
    "fake.profile()"
   ]
  },
  {
   "cell_type": "code",
   "execution_count": 73,
   "metadata": {},
   "outputs": [],
   "source": [
    "Profile = namedtuple('Profile', fake.profile().keys())"
   ]
  },
  {
   "cell_type": "code",
   "execution_count": 26,
   "metadata": {},
   "outputs": [
    {
     "data": {
      "text/plain": [
       "['__add__',\n",
       " '__class__',\n",
       " '__contains__',\n",
       " '__delattr__',\n",
       " '__dir__',\n",
       " '__doc__',\n",
       " '__eq__',\n",
       " '__format__',\n",
       " '__ge__',\n",
       " '__getattribute__',\n",
       " '__getitem__',\n",
       " '__getnewargs__',\n",
       " '__gt__',\n",
       " '__hash__',\n",
       " '__init__',\n",
       " '__init_subclass__',\n",
       " '__iter__',\n",
       " '__le__',\n",
       " '__len__',\n",
       " '__lt__',\n",
       " '__module__',\n",
       " '__mul__',\n",
       " '__ne__',\n",
       " '__new__',\n",
       " '__reduce__',\n",
       " '__reduce_ex__',\n",
       " '__repr__',\n",
       " '__rmul__',\n",
       " '__setattr__',\n",
       " '__sizeof__',\n",
       " '__slots__',\n",
       " '__str__',\n",
       " '__subclasshook__',\n",
       " '_asdict',\n",
       " '_fields',\n",
       " '_make',\n",
       " '_replace',\n",
       " '_source',\n",
       " 'address',\n",
       " 'birthdate',\n",
       " 'blood_group',\n",
       " 'company',\n",
       " 'count',\n",
       " 'current_location',\n",
       " 'index',\n",
       " 'job',\n",
       " 'mail',\n",
       " 'name',\n",
       " 'residence',\n",
       " 'sex',\n",
       " 'ssn',\n",
       " 'username',\n",
       " 'website']"
      ]
     },
     "execution_count": 26,
     "metadata": {},
     "output_type": "execute_result"
    }
   ],
   "source": [
    "#list of functions present in Profile\n",
    "dir(Profile)"
   ]
  },
  {
   "cell_type": "code",
   "execution_count": 74,
   "metadata": {},
   "outputs": [
    {
     "data": {
      "text/plain": [
       "('job',\n",
       " 'company',\n",
       " 'ssn',\n",
       " 'residence',\n",
       " 'current_location',\n",
       " 'blood_group',\n",
       " 'website',\n",
       " 'username',\n",
       " 'name',\n",
       " 'sex',\n",
       " 'address',\n",
       " 'mail',\n",
       " 'birthdate')"
      ]
     },
     "execution_count": 74,
     "metadata": {},
     "output_type": "execute_result"
    }
   ],
   "source": [
    "Profile._fields"
   ]
  },
  {
   "cell_type": "code",
   "execution_count": 75,
   "metadata": {},
   "outputs": [],
   "source": [
    "#Example for Storing data in namedtuple\n",
    "pt = Profile(**fake.profile())"
   ]
  },
  {
   "cell_type": "code",
   "execution_count": 76,
   "metadata": {},
   "outputs": [
    {
     "data": {
      "text/plain": [
       "Profile(job='Furniture conservator/restorer', company='Clark, Wong and Smith', ssn='138-22-9396', residence='841 Mitchell Harbors\\nEast Lauraport, MA 32077', current_location=(Decimal('73.984899'), Decimal('-58.173988')), blood_group='O+', website=['https://www.jones.com/', 'http://abbott-yoder.com/'], username='dsmith', name='Michelle Carter MD', sex='F', address='741 Chelsea Dale Suite 857\\nWest Debra, IA 74397', mail='marcus19@yahoo.com', birthdate=datetime.date(1964, 1, 14))"
      ]
     },
     "execution_count": 76,
     "metadata": {},
     "output_type": "execute_result"
    }
   ],
   "source": [
    "pt"
   ]
  },
  {
   "cell_type": "code",
   "execution_count": 51,
   "metadata": {},
   "outputs": [],
   "source": [
    "def timed(fn: \"Function\"):\n",
    "    \"\"\"\n",
    "    Decorator to calculate run time of a function.\n",
    "    \"\"\"\n",
    "    @wraps(fn)\n",
    "    def inner(*args, **kwargs) -> \"Function Output\":\n",
    "        \"\"\"\n",
    "        Inner function to calculate the time.\n",
    "        \"\"\"\n",
    "        start = perf_counter()\n",
    "        result = fn(*args, **kwargs)\n",
    "        end = perf_counter()\n",
    "        time_elapsed = (end - start)\n",
    "        print('Run time: {0:.6f}s'.format(time_elapsed))\n",
    "        return result\n",
    "    return inner"
   ]
  },
  {
   "cell_type": "code",
   "execution_count": 46,
   "metadata": {},
   "outputs": [],
   "source": [
    "def generate_profiles_using_namedtuple(no_profiles: int):\n",
    "    \"\"\"\n",
    "   To create a fake profiles of given number of people using namedtuples\n",
    "\n",
    "\n",
    "    \"\"\"\n",
    "    profiles = []\n",
    "    Profile = namedtuple('Profile', fake.profile().keys())\n",
    "    for _ in range(no_profiles):\n",
    "        profiles.append(Profile(**fake.profile()))\n",
    "    return profiles"
   ]
  },
  {
   "cell_type": "code",
   "execution_count": 39,
   "metadata": {},
   "outputs": [],
   "source": [
    "def generate_profiles_using_dictionary(no_profiles: int):\n",
    "    \"\"\"\n",
    "     To create a fake profiles of given number of people using dictornary\n",
    "     \n",
    "     \"\"\"\n",
    "    profiles = []\n",
    "    for _ in range(no_profiles):\n",
    "        profiles.append(fake.profile())\n",
    "    return profiles"
   ]
  },
  {
   "cell_type": "code",
   "execution_count": 67,
   "metadata": {},
   "outputs": [
    {
     "data": {
      "text/plain": [
       "[{'job': 'Barista',\n",
       "  'company': 'Davis LLC',\n",
       "  'ssn': '250-59-5739',\n",
       "  'residence': '8414 Dwayne Skyway\\nRoachton, NC 68338',\n",
       "  'current_location': (Decimal('-10.4998695'), Decimal('-34.651212')),\n",
       "  'blood_group': 'O-',\n",
       "  'website': ['http://white.com/'],\n",
       "  'username': 'jeremy19',\n",
       "  'name': 'Christine Ball',\n",
       "  'sex': 'F',\n",
       "  'address': '9593 Janet Spurs Apt. 031\\nLake Antoniofurt, CO 51771',\n",
       "  'mail': 'joy31@hotmail.com',\n",
       "  'birthdate': datetime.date(1918, 12, 11)}]"
      ]
     },
     "execution_count": 67,
     "metadata": {},
     "output_type": "execute_result"
    }
   ],
   "source": [
    "generate_profiles_using_dictionary(1)"
   ]
  },
  {
   "cell_type": "code",
   "execution_count": 78,
   "metadata": {},
   "outputs": [],
   "source": [
    "@timed\n",
    "def calc_data_using_namedtuple() -> \"namedtuple\":\n",
    "    \"\"\"\n",
    "    calculate the largest blood type, mean-current_location, \n",
    "    oldest_person_age and average age of a generated 1000 profiles using namedtuple\n",
    "    \"\"\"\n",
    "    no_profiles = 10000\n",
    "    profiles = generate_profiles_using_namedtuple(no_profiles)\n",
    "    date_today = datetime.date.today()\n",
    "    blood_gp = dict()\n",
    "    max_age = {'age': 0, 'profile': None}\n",
    "    cur_loc_coord_sum = [0, 0]\n",
    "    sum_ages = 0\n",
    "    for profile in profiles:\n",
    "        blood_gp[profile.blood_group] = blood_gp.get(profile.blood_group,0) + 1\n",
    "        age = (date_today - profile.birthdate).days\n",
    "        if  age > max_age['age']:\n",
    "            max_age['age'] = age\n",
    "            max_age['profile'] = profile\n",
    "        cur_loc_coord_sum[0] += profile.current_location[0]\n",
    "        cur_loc_coord_sum[1] += profile.current_location[1]\n",
    "        sum_ages += int(age/365)\n",
    "\n",
    "    data = namedtuple('data', 'largest_blood_type mean_current_location oldest_person average_age')\n",
    "    bg_l = max(blood_gp, key=blood_gp.get)\n",
    "    mean_current_location = (cur_loc_coord_sum[0]/no_profiles, cur_loc_coord_sum[1]/no_profiles)\n",
    "    return data((bg_l, blood_gp[bg_l]), mean_current_location, (max_age['profile'], int(max_age['age']/365)), int(sum_ages/no_profiles))"
   ]
  },
  {
   "cell_type": "code",
   "execution_count": 83,
   "metadata": {},
   "outputs": [
    {
     "name": "stdout",
     "output_type": "stream",
     "text": [
      "Run time: 50.176331s\n"
     ]
    },
    {
     "data": {
      "text/plain": [
       "data(largest_blood_type=('B+', 1313), mean_current_location=(Decimal('0.34840425485'), Decimal('0.657426092')), oldest_person=(Profile(job='Development worker, community', company='Willis Group', ssn='467-09-6323', residence='221 Fernando Isle\\nEast Martin, SC 32083', current_location=(Decimal('15.0907605'), Decimal('110.490004')), blood_group='A-', website=['https://www.andrade.com/', 'https://www.hill.info/', 'http://www.noble-andrade.biz/'], username='danielle23', name='Michelle Thompson', sex='F', address='81842 Reid Common\\nTonichester, WY 57477', mail='riverajohnny@yahoo.com', birthdate=datetime.date(1904, 10, 1)), 116), average_age=58)"
      ]
     },
     "execution_count": 83,
     "metadata": {},
     "output_type": "execute_result"
    }
   ],
   "source": [
    "# Using namedtuple, calculate the largest blood type,\n",
    "# mean-current_location, oldest_person_age and average age (add proper doc-strings)\n",
    "\n",
    "calc_data_using_namedtuple()"
   ]
  },
  {
   "cell_type": "code",
   "execution_count": 84,
   "metadata": {},
   "outputs": [],
   "source": [
    "@timed\n",
    "def calc_data_using_dictionary() -> \"Dictionary\":\n",
    "    \"\"\"\n",
    "    calculate the largest blood type, mean-current_location, \n",
    "    oldest_person_age and average age of a generated 1000 profiles using dictionary\n",
    "    \n",
    "    \"\"\"\n",
    "    no_profiles = 10000\n",
    "    profiles = generate_profiles_using_dictionary(no_profiles)\n",
    "    date_today = datetime.date.today()\n",
    "    blood_gp = dict()\n",
    "    max_age = {'age': 0, 'proflie': None}\n",
    "    cur_loc_coord_sum = [0, 0]\n",
    "    sum_ages = 0\n",
    "    for profile in profiles:\n",
    "        \n",
    "        blood_gp[profile['blood_group']] = blood_gp.get(profile['blood_group'],0) + 1\n",
    "        age = (date_today - profile['birthdate']).days\n",
    "        if  age > max_age['age']:\n",
    "            max_age['age'] = age\n",
    "            max_age['profile'] = profile\n",
    "        cur_loc_coord_sum[0] += profile['current_location'][0]\n",
    "        cur_loc_coord_sum[1] += profile['current_location'][1]\n",
    "        sum_ages += int(age/365)\n",
    "    bg_l = max(blood_gp, key=blood_gp.get)\n",
    "    mean_current_location = (cur_loc_coord_sum[0]/no_profiles, cur_loc_coord_sum[1]/no_profiles)\n",
    "    return {'largest_blood_type': (bg_l, blood_gp[bg_l]), 'mean_current_location': mean_current_location, 'oldest_person': (max_age['profile'], int(max_age['age']/365)), 'average_age': int(sum_ages/no_profiles)}\n"
   ]
  },
  {
   "cell_type": "code",
   "execution_count": 85,
   "metadata": {},
   "outputs": [
    {
     "name": "stdout",
     "output_type": "stream",
     "text": [
      "Run time: 52.379762s\n"
     ]
    },
    {
     "data": {
      "text/plain": [
       "{'largest_blood_type': ('A-', 1294),\n",
       " 'mean_current_location': (Decimal('0.74582119425'), Decimal('2.2490839835')),\n",
       " 'oldest_person': ({'job': 'Designer, ceramics/pottery',\n",
       "   'company': 'Walker-Taylor',\n",
       "   'ssn': '093-47-1100',\n",
       "   'residence': 'USNS Woodard\\nFPO AE 31791',\n",
       "   'current_location': (Decimal('49.240697'), Decimal('75.419747')),\n",
       "   'blood_group': 'O-',\n",
       "   'website': ['https://www.hall.com/', 'http://bryant.info/'],\n",
       "   'username': 'mathisadrian',\n",
       "   'name': 'Samantha Perez',\n",
       "   'sex': 'F',\n",
       "   'address': '6458 Douglas Plains\\nLake Steveland, UT 42068',\n",
       "   'mail': 'anna81@yahoo.com',\n",
       "   'birthdate': datetime.date(1904, 10, 1)},\n",
       "  116),\n",
       " 'average_age': 57}"
      ]
     },
     "execution_count": 85,
     "metadata": {},
     "output_type": "execute_result"
    }
   ],
   "source": [
    "calc_data_using_dictionary()"
   ]
  },
  {
   "cell_type": "code",
   "execution_count": null,
   "metadata": {},
   "outputs": [],
   "source": []
  }
 ],
 "metadata": {
  "kernelspec": {
   "display_name": "Python 3",
   "language": "python",
   "name": "python3"
  },
  "language_info": {
   "codemirror_mode": {
    "name": "ipython",
    "version": 3
   },
   "file_extension": ".py",
   "mimetype": "text/x-python",
   "name": "python",
   "nbconvert_exporter": "python",
   "pygments_lexer": "ipython3",
   "version": "3.6.5"
  }
 },
 "nbformat": 4,
 "nbformat_minor": 2
}
